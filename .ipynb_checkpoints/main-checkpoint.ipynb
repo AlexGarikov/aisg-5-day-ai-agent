{
 "cells": [
  {
   "attachments": {},
   "cell_type": "markdown",
   "metadata": {},
   "source": [
    "# Get repsonse from an LLM\n",
    "\n",
    "\n",
    "To get started, [get an API key](https://g.co/ai/idxGetGeminiKey) and replace the word `API KEY` below with your API key:"
   ]
  },
  {
   "cell_type": "markdown",
   "metadata": {},
   "source": [
    "Build your own Agent "
   ]
  },
  {
   "cell_type": "code",
   "execution_count": 2,
   "metadata": {},
   "outputs": [
    {
     "name": "stdout",
     "output_type": "stream",
     "text": [
      "{'temperature': '2', 'unit': 'F', 'forecast': 'snowy'}\n"
     ]
    }
   ],
   "source": [
    "# getLocation(place=None):\n",
    "# getCurrentWeather(place=None):\n",
    "# prompt\n",
    "\n",
    "from utils import AiTools\n",
    "ai_tools = AiTools()\n",
    "print(ai_tools.getCurrentWeather('dd'))\n"
   ]
  },
  {
   "cell_type": "code",
   "execution_count": 10,
   "metadata": {},
   "outputs": [
    {
     "name": "stdout",
     "output_type": "stream",
     "text": [
      "Call 1:\n",
      "Thought: I need to determine the user's location and the current weather to provide relevant restaurant recommendations.  I'll start by getting their location.\n",
      "\n",
      "Action: getLocation: null\n",
      "PAUSE\n",
      "\n",
      "Call 2:\n",
      "Thought: I have the user's location.  To provide restaurant recommendations, I need the current weather.\n",
      "\n",
      "Action: getCurrentWeather: New York City\n",
      "PAUSE\n",
      "\n",
      "Call 3:\n",
      "Thought: I have the user's location (New York City, NY) and the current weather (snowy, 2°F).  I need to find restaurants that are appropriate for this cold, snowy weather.  I should prioritize restaurants that offer indoor dining and possibly comfort food.\n",
      "\n",
      "Action:  No further action needed.\n",
      "\n",
      "PAUSE\n",
      "\n",
      "Done\n"
     ]
    }
   ],
   "source": [
    "import google.generativeai as genai\n",
    "from dotenv import load_dotenv\n",
    "import os\n",
    "import re\n",
    "\n",
    "\n",
    "# Load environment variables from .env file\n",
    "load_dotenv()\n",
    "\n",
    "# Access the API key from the environment variable\n",
    "api_key = os.getenv(\"SECRET_KEY\")\n",
    "\n",
    "genai.configure(api_key=api_key)\n",
    "model = genai.GenerativeModel(\"gemini-1.5-flash\")\n",
    "\n",
    "query = \"Give me a list of restaurants based on my location and weather.\"\n",
    "\n",
    "# Combine the system prompt and user query into a single input because gemini does not take messages arrays like GPT!\n",
    "full_prompt = f\"{ai_tools.prompt}\\n\\nUser: {query}\\n\\nAssistant:\"\n",
    "\n",
    "# Define your query\n",
    "#query = \"How do I use discord to find pinned messages?\"\n",
    "\n",
    "max_calls = 5\n",
    "action_regex = r\"^Action: (\\w+): (.*)$\"\n",
    "\n",
    "# call the llm atleast 3 times \n",
    "for i in range(max_calls):\n",
    "    print(f\"Call {i + 1}:\")\n",
    "\n",
    "    response = model.generate_content(full_prompt)\n",
    "    #print(response.parts[0].text)\n",
    "    print(response.text)\n",
    "    \n",
    "    # Split response text into lines\n",
    "    response_lines = response.text.strip().split(\"\\n\")\n",
    "\n",
    "    # Find the action string in the response\n",
    "    found_action_str = next((line for line in response_lines if re.match(action_regex, line)), None)\n",
    "\n",
    "    # Map available functions\n",
    "    available_functions = {\n",
    "        \"getLocation\": ai_tools.getLocation,\n",
    "        \"getCurrentWeather\": ai_tools.getCurrentWeather\n",
    "    }\n",
    "\n",
    "    # Execute the identified action if it matches\n",
    "    actions = re.match(action_regex, found_action_str) if found_action_str else None\n",
    "    if actions:\n",
    "        action, action_arg = actions.groups()\n",
    "        if action in available_functions:\n",
    "            #print(f'args: {action_arg}')\n",
    "            necessary_func = available_functions[action]\n",
    "            #print(f'func: {necessary_func}')\n",
    "            observation = necessary_func(action_arg)\n",
    "            #print(f'observation: {observation}')\n",
    "            full_prompt = full_prompt + f'\\n\\nObservation: \"{observation}\"\\n\\n'\n",
    "            \n",
    "            \n",
    "        else:\n",
    "            print(f\"Action '{action}' is not available.\")\n",
    "    else:\n",
    "        print(\"Done\")\n",
    "        break\n",
    "\n"
   ]
  },
  {
   "cell_type": "code",
   "execution_count": null,
   "metadata": {},
   "outputs": [],
   "source": []
  },
  {
   "cell_type": "code",
   "execution_count": null,
   "metadata": {},
   "outputs": [],
   "source": [
    "# Load environment variables from .env file\n",
    "load_dotenv()\n",
    "\n",
    "# Access the API key from the environment variable\n",
    "api_key = os.getenv(\"SECRET_KEY\")\n",
    "\n",
    "genai.configure(api_key=api_key)\n",
    "model = genai.GenerativeModel(\"gemini-1.5-flash\")\n",
    "response = model.generate_content(\"Give me a list of restaurants based on my location and weather.\")\n",
    "print(response.text)"
   ]
  }
 ],
 "metadata": {
  "kernelspec": {
   "display_name": "Python 3 (ipykernel)",
   "language": "python",
   "name": "python3"
  },
  "language_info": {
   "codemirror_mode": {
    "name": "ipython",
    "version": 3
   },
   "file_extension": ".py",
   "mimetype": "text/x-python",
   "name": "python",
   "nbconvert_exporter": "python",
   "pygments_lexer": "ipython3",
   "version": "3.10.13"
  }
 },
 "nbformat": 4,
 "nbformat_minor": 4
}
