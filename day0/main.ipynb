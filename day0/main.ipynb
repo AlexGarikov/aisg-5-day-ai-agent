{
 "cells": [
  {
   "cell_type": "code",
   "execution_count": 9,
   "metadata": {},
   "outputs": [],
   "source": [
    "# dummy functions to simulate API calls\n",
    "def getCurrentWeather():\n",
    "    weather = {\n",
    "        \"temperature\": \"2\",\n",
    "        \"unit\": \"F\",\n",
    "        \"forecast\": \"snowy\"\n",
    "    }\n",
    "    return weather\n",
    "\n",
    "def getLocation():\n",
    "    location = {\n",
    "        \"city\": \"New York City\",\n",
    "        \"state\": \"NY\",\n",
    "        \"country\": \"USA\"\n",
    "    }\n",
    "    return location\n"
   ]
  }
 ],
 "metadata": {
  "kernelspec": {
   "display_name": ".venv",
   "language": "python",
   "name": "python3"
  },
  "language_info": {
   "codemirror_mode": {
    "name": "ipython",
    "version": 3
   },
   "file_extension": ".py",
   "mimetype": "text/x-python",
   "name": "python",
   "nbconvert_exporter": "python",
   "pygments_lexer": "ipython3",
   "version": "3.11.8"
  }
 },
 "nbformat": 4,
 "nbformat_minor": 2
}
