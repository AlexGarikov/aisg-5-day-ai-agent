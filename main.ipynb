{
 "cells": [
  {
   "attachments": {},
   "cell_type": "markdown",
   "metadata": {},
   "source": [
    "# Get repsonse from an LLM\n",
    "\n",
    "\n",
    "To get started, [get an API key](https://g.co/ai/idxGetGeminiKey) and replace the word `API KEY` below with your API key:"
   ]
  },
  {
   "cell_type": "code",
   "execution_count": 2,
   "metadata": {},
   "outputs": [
    {
     "name": "stdout",
     "output_type": "stream",
     "text": [
      "I cannot provide a comprehensive list of *all* restaurants in New York City.  There are tens of thousands!  To give you a useful list, I need more information.  Please tell me:\n",
      "\n",
      "* **What kind of food are you interested in?** (e.g., Italian, Chinese, Mexican, American, etc.)\n",
      "* **What borough are you interested in?** (e.g., Manhattan, Brooklyn, Queens, Bronx, Staten Island)\n",
      "* **What neighborhood are you interested in?** (e.g., Greenwich Village, Chinatown, Williamsburg, etc.)\n",
      "* **What's your budget?** (e.g., $, $$, $$$)\n",
      "* **What kind of atmosphere are you looking for?** (e.g., casual, fine dining, romantic, family-friendly)\n",
      "\n",
      "\n",
      "Once I have this information, I can give you a much more helpful and relevant list.\n",
      "\n"
     ]
    }
   ],
   "source": [
    "import google.generativeai as genai\n",
    "from dotenv import load_dotenv\n",
    "import os\n",
    "\n",
    "# Load environment variables from .env file\n",
    "load_dotenv()\n",
    "\n",
    "# Access the API key from the environment variable\n",
    "api_key = os.getenv(\"SECRET_KEY\")\n",
    "\n",
    "genai.configure(api_key=api_key)\n",
    "model = genai.GenerativeModel(\"gemini-1.5-flash\")\n",
    "response = model.generate_content(\"Give me a list of restaurants in NY\")\n",
    "print(response.text)"
   ]
  },
  {
   "cell_type": "markdown",
   "metadata": {},
   "source": [
    "\n"
   ]
  }
 ],
 "metadata": {
  "kernelspec": {
   "display_name": "out",
   "language": "python",
   "name": "python3"
  },
  "language_info": {
   "codemirror_mode": {
    "name": "ipython",
    "version": 3
   },
   "file_extension": ".py",
   "mimetype": "text/x-python",
   "name": "python",
   "nbconvert_exporter": "python",
   "pygments_lexer": "ipython3",
   "version": "3.11.8"
  },
  "orig_nbformat": 4
 },
 "nbformat": 4,
 "nbformat_minor": 2
}
